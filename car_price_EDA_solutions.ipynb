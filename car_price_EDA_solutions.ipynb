{
  "nbformat": 4,
  "nbformat_minor": 0,
  "metadata": {
    "colab": {
      "provenance": []
    },
    "kernelspec": {
      "name": "python3",
      "display_name": "Python 3"
    },
    "language_info": {
      "name": "python"
    }
  },
  "cells": [
    {
      "cell_type": "code",
      "execution_count": null,
      "metadata": {
        "id": "e6N9xDkLAHKg"
      },
      "outputs": [],
      "source": []
    },
    {
      "cell_type": "markdown",
      "source": [
        "Here are 20 business questions along with the Python code and explanations to answer them using the provided dataset:\n",
        "\n",
        "---\n",
        "\n",
        "### **1. What is the average price of all cars in the dataset?**\n",
        "**Python Code:**\n",
        "```python\n",
        "import pandas as pd\n",
        "\n",
        "# Load the dataset\n",
        "df = pd.read_csv('car_price_dataset.csv')\n",
        "\n",
        "# Calculate the average price\n",
        "average_price = df['Price'].mean()\n",
        "print(f\"The average price of all cars is: ${average_price:.2f}\")\n",
        "```\n",
        "**Explanation:**\n",
        "- We load the dataset using `pd.read_csv`.\n",
        "- The `mean()` function calculates the average price of all cars in the `Price` column.\n",
        "\n",
        "---\n",
        "\n",
        "### **2. Which car brand has the highest average price?**\n",
        "**Python Code:**\n",
        "```python\n",
        "# Group by 'Brand' and calculate the mean price\n",
        "brand_avg_price = df.groupby('Brand')['Price'].mean()\n",
        "\n",
        "# Find the brand with the highest average price\n",
        "highest_avg_brand = brand_avg_price.idxmax()\n",
        "print(f\"The brand with the highest average price is: {highest_avg_brand}\")\n",
        "```\n",
        "**Explanation:**\n",
        "- We group the data by `Brand` and calculate the mean price for each brand using `groupby()` and `mean()`.\n",
        "- `idxmax()` returns the brand with the highest average price.\n",
        "\n",
        "---\n",
        "\n",
        "### **3. What is the most common fuel type in the dataset?**\n",
        "**Python Code:**\n",
        "```python\n",
        "# Find the most common fuel type\n",
        "most_common_fuel = df['Fuel_Type'].mode()[0]\n",
        "print(f\"The most common fuel type is: {most_common_fuel}\")\n",
        "```\n",
        "**Explanation:**\n",
        "- The `mode()` function calculates the most frequent value in the `Fuel_Type` column.\n",
        "\n",
        "---\n",
        "\n",
        "### **4. How many cars have a mileage greater than 200,000?**\n",
        "**Python Code:**\n",
        "```python\n",
        "# Filter cars with mileage > 200,000\n",
        "high_mileage_cars = df[df['Mileage'] > 200000]\n",
        "print(f\"Number of cars with mileage > 200,000: {len(high_mileage_cars)}\")\n",
        "```\n",
        "**Explanation:**\n",
        "- We filter the DataFrame using a condition (`Mileage > 200000`) and count the rows using `len()`.\n",
        "\n",
        "---\n",
        "\n",
        "### **5. What is the distribution of cars by transmission type?**\n",
        "**Python Code:**\n",
        "```python\n",
        "# Count the number of cars by transmission type\n",
        "transmission_distribution = df['Transmission'].value_counts()\n",
        "print(\"Distribution of cars by transmission type:\")\n",
        "print(transmission_distribution)\n",
        "```\n",
        "**Explanation:**\n",
        "- `value_counts()` counts the occurrences of each unique value in the `Transmission` column.\n",
        "\n",
        "---\n",
        "\n",
        "### **6. Which car model has the highest price?**\n",
        "**Python Code:**\n",
        "```python\n",
        "# Find the car with the highest price\n",
        "highest_price_car = df.loc[df['Price'].idxmax()]\n",
        "print(f\"The car with the highest price is: {highest_price_car['Brand']} {highest_price_car['Model']} (${highest_price_car['Price']})\")\n",
        "```\n",
        "**Explanation:**\n",
        "- `idxmax()` finds the index of the car with the highest price, and `loc[]` retrieves the corresponding row.\n",
        "\n",
        "---\n",
        "\n",
        "### **7. What is the average price of cars by fuel type?**\n",
        "**Python Code:**\n",
        "```python\n",
        "# Group by 'Fuel_Type' and calculate the mean price\n",
        "avg_price_by_fuel = df.groupby('Fuel_Type')['Price'].mean()\n",
        "print(\"Average price by fuel type:\")\n",
        "print(avg_price_by_fuel)\n",
        "```\n",
        "**Explanation:**\n",
        "- We group the data by `Fuel_Type` and calculate the mean price for each fuel type.\n",
        "\n",
        "---\n",
        "\n",
        "### **8. How many cars are from the year 2020 or later?**\n",
        "**Python Code:**\n",
        "```python\n",
        "# Filter cars from 2020 or later\n",
        "recent_cars = df[df['Year'] >= 2020]\n",
        "print(f\"Number of cars from 2020 or later: {len(recent_cars)}\")\n",
        "```\n",
        "**Explanation:**\n",
        "- We filter the DataFrame using a condition (`Year >= 2020`) and count the rows using `len()`.\n",
        "\n",
        "---\n",
        "\n",
        "### **9. What is the average engine size for each brand?**\n",
        "**Python Code:**\n",
        "```python\n",
        "# Group by 'Brand' and calculate the mean engine size\n",
        "avg_engine_by_brand = df.groupby('Brand')['Engine_Size'].mean()\n",
        "print(\"Average engine size by brand:\")\n",
        "print(avg_engine_by_brand)\n",
        "```\n",
        "**Explanation:**\n",
        "- We group the data by `Brand` and calculate the mean engine size for each brand.\n",
        "\n",
        "---\n",
        "\n",
        "### **10. Which car has the lowest mileage?**\n",
        "**Python Code:**\n",
        "```python\n",
        "# Find the car with the lowest mileage\n",
        "lowest_mileage_car = df.loc[df['Mileage'].idxmin()]\n",
        "print(f\"The car with the lowest mileage is: {lowest_mileage_car['Brand']} {lowest_mileage_car['Model']} ({lowest_mileage_car['Mileage']} miles)\")\n",
        "```\n",
        "**Explanation:**\n",
        "- `idxmin()` finds the index of the car with the lowest mileage, and `loc[]` retrieves the corresponding row.\n",
        "\n",
        "---\n",
        "\n",
        "### **11. What is the correlation between mileage and price?**\n",
        "**Python Code:**\n",
        "```python\n",
        "# Calculate the correlation between mileage and price\n",
        "correlation = df['Mileage'].corr(df['Price'])\n",
        "print(f\"Correlation between mileage and price: {correlation:.2f}\")\n",
        "```\n",
        "**Explanation:**\n",
        "- The `corr()` function calculates the Pearson correlation coefficient between `Mileage` and `Price`.\n",
        "\n",
        "---\n",
        "\n",
        "### **12. How many cars have more than 2 owners?**\n",
        "**Python Code:**\n",
        "```python\n",
        "# Filter cars with more than 2 owners\n",
        "cars_more_than_2_owners = df[df['Owner_Count'] > 2]\n",
        "print(f\"Number of cars with more than 2 owners: {len(cars_more_than_2_owners)}\")\n",
        "```\n",
        "**Explanation:**\n",
        "- We filter the DataFrame using a condition (`Owner_Count > 2`) and count the rows using `len()`.\n",
        "\n",
        "---\n",
        "\n",
        "### **13. What is the average price of cars by year?**\n",
        "**Python Code:**\n",
        "```python\n",
        "# Group by 'Year' and calculate the mean price\n",
        "avg_price_by_year = df.groupby('Year')['Price'].mean()\n",
        "print(\"Average price by year:\")\n",
        "print(avg_price_by_year)\n",
        "```\n",
        "**Explanation:**\n",
        "- We group the data by `Year` and calculate the mean price for each year.\n",
        "\n",
        "---\n",
        "\n",
        "### **14. Which car has the highest number of doors?**\n",
        "**Python Code:**\n",
        "```python\n",
        "# Find the car with the highest number of doors\n",
        "max_doors_car = df.loc[df['Doors'].idxmax()]\n",
        "print(f\"The car with the highest number of doors is: {max_doors_car['Brand']} {max_doors_car['Model']} ({max_doors_car['Doors']} doors)\")\n",
        "```\n",
        "**Explanation:**\n",
        "- `idxmax()` finds the index of the car with the highest number of doors, and `loc[]` retrieves the corresponding row.\n",
        "\n",
        "---\n",
        "\n",
        "### **15. What is the average mileage for each fuel type?**\n",
        "**Python Code:**\n",
        "```python\n",
        "# Group by 'Fuel_Type' and calculate the mean mileage\n",
        "avg_mileage_by_fuel = df.groupby('Fuel_Type')['Mileage'].mean()\n",
        "print(\"Average mileage by fuel type:\")\n",
        "print(avg_mileage_by_fuel)\n",
        "```\n",
        "**Explanation:**\n",
        "- We group the data by `Fuel_Type` and calculate the mean mileage for each fuel type.\n",
        "\n",
        "---\n",
        "\n",
        "### **16. How many cars are from the brand 'Toyota'?**\n",
        "**Python Code:**\n",
        "```python\n",
        "# Filter cars from the brand 'Toyota'\n",
        "toyota_cars = df[df['Brand'] == 'Toyota']\n",
        "print(f\"Number of Toyota cars: {len(toyota_cars)}\")\n",
        "```\n",
        "**Explanation:**\n",
        "- We filter the DataFrame using a condition (`Brand == 'Toyota'`) and count the rows using `len()`.\n",
        "\n",
        "---\n",
        "\n",
        "### **17. What is the average price of cars with automatic transmission?**\n",
        "**Python Code:**\n",
        "```python\n",
        "# Filter cars with automatic transmission\n",
        "automatic_cars = df[df['Transmission'] == 'Automatic']\n",
        "\n",
        "# Calculate the average price\n",
        "avg_price_automatic = automatic_cars['Price'].mean()\n",
        "print(f\"The average price of cars with automatic transmission is: ${avg_price_automatic:.2f}\")\n",
        "```\n",
        "**Explanation:**\n",
        "- We filter the DataFrame using a condition (`Transmission == 'Automatic'`) and calculate the mean price.\n",
        "\n",
        "---\n",
        "\n",
        "### **18. Which car has the highest owner count?**\n",
        "**Python Code:**\n",
        "```python\n",
        "# Find the car with the highest owner count\n",
        "max_owner_car = df.loc[df['Owner_Count'].idxmax()]\n",
        "print(f\"The car with the highest owner count is: {max_owner_car['Brand']} {max_owner_car['Model']} ({max_owner_car['Owner_Count']} owners)\")\n",
        "```\n",
        "**Explanation:**\n",
        "- `idxmax()` finds the index of the car with the highest owner count, and `loc[]` retrieves the corresponding row.\n",
        "\n",
        "---\n",
        "\n",
        "### **19. What is the average engine size for cars with diesel fuel type?**\n",
        "**Python Code:**\n",
        "```python\n",
        "# Filter cars with diesel fuel type\n",
        "diesel_cars = df[df['Fuel_Type'] == 'Diesel']\n",
        "\n",
        "# Calculate the average engine size\n",
        "avg_engine_diesel = diesel_cars['Engine_Size'].mean()\n",
        "print(f\"The average engine size for diesel cars is: {avg_engine_diesel:.2f}\")\n",
        "```\n",
        "**Explanation:**\n",
        "- We filter the DataFrame using a condition (`Fuel_Type == 'Diesel'`) and calculate the mean engine size.\n",
        "\n",
        "---\n",
        "\n",
        "### **20. How many cars have a price greater than $10,000?**\n",
        "**Python Code:**\n",
        "```python\n",
        "# Filter cars with price > $10,000\n",
        "high_price_cars = df[df['Price'] > 10000]\n",
        "print(f\"Number of cars with price > $10,000: {len(high_price_cars)}\")\n",
        "```\n",
        "**Explanation:**\n",
        "- We filter the DataFrame using a condition (`Price > 10000`) and count the rows using `len()`.\n",
        "\n",
        "---\n",
        "\n",
        "These questions and code snippets provide insights into the dataset and demonstrate how to manipulate and analyze data using Python and pandas."
      ],
      "metadata": {
        "id": "6S1BMzbOAO2T"
      }
    },
    {
      "cell_type": "code",
      "source": [],
      "metadata": {
        "id": "zxhb-Ddkd01j"
      },
      "execution_count": null,
      "outputs": []
    },
    {
      "cell_type": "code",
      "source": [],
      "metadata": {
        "id": "RInhW9Lfd0x7"
      },
      "execution_count": null,
      "outputs": []
    },
    {
      "cell_type": "code",
      "source": [],
      "metadata": {
        "id": "2XSv4kgwd0vc"
      },
      "execution_count": null,
      "outputs": []
    },
    {
      "cell_type": "code",
      "source": [],
      "metadata": {
        "id": "bZmJH91Ud0tA"
      },
      "execution_count": null,
      "outputs": []
    },
    {
      "cell_type": "code",
      "source": [
        "import pandas as pd\n",
        "\n",
        "# Load the dataset\n",
        "df = pd.read_csv('car_price_dataset.csv')\n",
        "\n",
        "# Calculate the average price\n",
        "average_price = df['Price'].mean()\n",
        "print(f\"The average price of all cars is: ${average_price:.2f}\")"
      ],
      "metadata": {
        "colab": {
          "base_uri": "https://localhost:8080/"
        },
        "id": "Qy_DJMKDd0qa",
        "outputId": "1ae800d3-7dba-402e-ce57-1e1dc0ff15aa"
      },
      "execution_count": null,
      "outputs": [
        {
          "output_type": "stream",
          "name": "stdout",
          "text": [
            "The average price of all cars is: $8852.96\n"
          ]
        }
      ]
    },
    {
      "cell_type": "code",
      "source": [
        "# Group by 'Brand' and calculate the mean price\n",
        "brand_avg_price = df.groupby('Brand')['Price'].mean()\n",
        "\n",
        "# Find the brand with the highest average price\n",
        "highest_avg_brand = brand_avg_price.idxmax()\n",
        "print(f\"The brand with the highest average price is: {highest_avg_brand}\")"
      ],
      "metadata": {
        "id": "SKQ2QdVbAPk3",
        "colab": {
          "base_uri": "https://localhost:8080/"
        },
        "outputId": "87df7566-e4ec-4f80-edbc-e14e9c092fd3"
      },
      "execution_count": null,
      "outputs": [
        {
          "output_type": "stream",
          "name": "stdout",
          "text": [
            "The brand with the highest average price is: Chevrolet\n"
          ]
        }
      ]
    },
    {
      "cell_type": "code",
      "source": [
        "# Find the most common fuel type\n",
        "most_common_fuel = df['Fuel_Type'].mode()[0]\n",
        "print(f\"The most common fuel type is: {most_common_fuel}\")"
      ],
      "metadata": {
        "colab": {
          "base_uri": "https://localhost:8080/"
        },
        "id": "nexCcv_VeJ-J",
        "outputId": "fc0d0d1d-552b-4ab5-f960-89483a1bcf40"
      },
      "execution_count": null,
      "outputs": [
        {
          "output_type": "stream",
          "name": "stdout",
          "text": [
            "The most common fuel type is: Electric\n"
          ]
        }
      ]
    },
    {
      "cell_type": "code",
      "source": [
        "# Filter cars with mileage > 200,000\n",
        "high_mileage_cars = df[df['Mileage'] > 200000]\n",
        "print(f\"Number of cars with mileage > 200,000: {len(high_mileage_cars)}\")"
      ],
      "metadata": {
        "colab": {
          "base_uri": "https://localhost:8080/"
        },
        "id": "oACGO3I6ed5d",
        "outputId": "c0d8207c-ab71-4b80-bbae-7fb03a0c67a9"
      },
      "execution_count": null,
      "outputs": [
        {
          "output_type": "stream",
          "name": "stdout",
          "text": [
            "Number of cars with mileage > 200,000: 3290\n"
          ]
        }
      ]
    },
    {
      "cell_type": "code",
      "source": [
        "# Count the number of cars by transmission type\n",
        "transmission_distribution = df['Transmission'].value_counts()\n",
        "print(\"Distribution of cars by transmission type:\")\n",
        "print(transmission_distribution)"
      ],
      "metadata": {
        "colab": {
          "base_uri": "https://localhost:8080/"
        },
        "id": "135jBzR5elqN",
        "outputId": "cadd5412-4ad2-40e3-f286-3b037caf7cbe"
      },
      "execution_count": null,
      "outputs": [
        {
          "output_type": "stream",
          "name": "stdout",
          "text": [
            "Distribution of cars by transmission type:\n",
            "Transmission\n",
            "Manual            3372\n",
            "Automatic         3317\n",
            "Semi-Automatic    3311\n",
            "Name: count, dtype: int64\n"
          ]
        }
      ]
    },
    {
      "cell_type": "code",
      "source": [
        "# Find the car with the highest price\n",
        "highest_price_car = df.loc[df['Price'].idxmax()]\n",
        "print(f\"The car with the highest price is: {highest_price_car['Brand']} {highest_price_car['Model']} (${highest_price_car['Price']})\")"
      ],
      "metadata": {
        "colab": {
          "base_uri": "https://localhost:8080/"
        },
        "id": "6OD3fBsVezfm",
        "outputId": "72e8df23-00ab-4dfa-e3c4-5ebc444dfe9e"
      },
      "execution_count": null,
      "outputs": [
        {
          "output_type": "stream",
          "name": "stdout",
          "text": [
            "The car with the highest price is: Toyota Corolla ($18301)\n"
          ]
        }
      ]
    },
    {
      "cell_type": "code",
      "source": [
        "# Group by 'Fuel_Type' and calculate the mean price\n",
        "avg_price_by_fuel = df.groupby('Fuel_Type')['Price'].mean()\n",
        "print(\"Average price by fuel type:\")\n",
        "print(avg_price_by_fuel)"
      ],
      "metadata": {
        "colab": {
          "base_uri": "https://localhost:8080/"
        },
        "id": "lhu92d2TfBR1",
        "outputId": "3aeaa09b-6e35-43d3-bf80-03bd46e36bb7"
      },
      "execution_count": null,
      "outputs": [
        {
          "output_type": "stream",
          "name": "stdout",
          "text": [
            "Average price by fuel type:\n",
            "Fuel_Type\n",
            "Diesel       8117.336385\n",
            "Electric    10032.220190\n",
            "Hybrid       9113.030167\n",
            "Petrol       8070.561826\n",
            "Name: Price, dtype: float64\n"
          ]
        }
      ]
    },
    {
      "cell_type": "code",
      "source": [
        "# Filter cars from 2020 or later\n",
        "recent_cars = df[df['Year'] >= 2020]\n",
        "print(f\"Number of cars from 2020 or later: {len(recent_cars)}\")"
      ],
      "metadata": {
        "colab": {
          "base_uri": "https://localhost:8080/"
        },
        "id": "VzdVj0yFfOqE",
        "outputId": "7b2098d3-17c1-4467-f2e9-d0c2974c23de"
      },
      "execution_count": null,
      "outputs": [
        {
          "output_type": "stream",
          "name": "stdout",
          "text": [
            "Number of cars from 2020 or later: 1651\n"
          ]
        }
      ]
    },
    {
      "cell_type": "code",
      "source": [
        "# Group by 'Brand' and calculate the mean engine size\n",
        "avg_engine_by_brand = df.groupby('Brand')['Engine_Size'].mean()\n",
        "print(\"Average engine size by brand:\")\n",
        "print(avg_engine_by_brand)"
      ],
      "metadata": {
        "colab": {
          "base_uri": "https://localhost:8080/"
        },
        "id": "S51ZjiqxfZfS",
        "outputId": "9110fa35-044b-4698-9d66-b22bdd8f3515"
      },
      "execution_count": null,
      "outputs": [
        {
          "output_type": "stream",
          "name": "stdout",
          "text": [
            "Average engine size by brand:\n",
            "Brand\n",
            "Audi          3.032948\n",
            "BMW           2.976877\n",
            "Chevrolet     2.993719\n",
            "Ford          3.044275\n",
            "Honda         2.925966\n",
            "Hyundai       2.936683\n",
            "Kia           3.053791\n",
            "Mercedes      3.069745\n",
            "Toyota        2.961443\n",
            "Volkswagen    3.011078\n",
            "Name: Engine_Size, dtype: float64\n"
          ]
        }
      ]
    },
    {
      "cell_type": "code",
      "source": [
        "# Find the car with the lowest mileage\n",
        "lowest_mileage_car = df.loc[df['Mileage'].idxmin()]\n",
        "print(f\"The car with the lowest mileage is: {lowest_mileage_car['Brand']} {lowest_mileage_car['Model']} ({lowest_mileage_car['Mileage']} miles)\")"
      ],
      "metadata": {
        "colab": {
          "base_uri": "https://localhost:8080/"
        },
        "id": "3MQQ3GecfiUX",
        "outputId": "eb8cf348-24bb-493c-a8d3-8383a06c595a"
      },
      "execution_count": null,
      "outputs": [
        {
          "output_type": "stream",
          "name": "stdout",
          "text": [
            "The car with the lowest mileage is: Ford Explorer (25 miles)\n"
          ]
        }
      ]
    },
    {
      "cell_type": "code",
      "source": [
        "# Filter cars with more than 2 owners\n",
        "cars_more_than_2_owners = df[df['Owner_Count'] > 2]\n",
        "print(f\"Number of cars with more than 2 owners: {len(cars_more_than_2_owners)}\")"
      ],
      "metadata": {
        "colab": {
          "base_uri": "https://localhost:8080/"
        },
        "id": "oY4I19OHfrU0",
        "outputId": "94803ee8-04cb-41d0-e8f7-3920cbb2bb1f"
      },
      "execution_count": null,
      "outputs": [
        {
          "output_type": "stream",
          "name": "stdout",
          "text": [
            "Number of cars with more than 2 owners: 5944\n"
          ]
        }
      ]
    },
    {
      "cell_type": "code",
      "source": [
        "# Calculate the correlation between mileage and price\n",
        "correlation = df['Mileage'].corr(df['Price'])\n",
        "print(f\"Correlation between mileage and price: {correlation:.2f}\")"
      ],
      "metadata": {
        "colab": {
          "base_uri": "https://localhost:8080/"
        },
        "id": "lSdjXQAgf0d-",
        "outputId": "e21cc732-b032-4ccb-ee76-246e420a7be4"
      },
      "execution_count": null,
      "outputs": [
        {
          "output_type": "stream",
          "name": "stdout",
          "text": [
            "Correlation between mileage and price: -0.55\n"
          ]
        }
      ]
    },
    {
      "cell_type": "code",
      "source": [
        "# Group by 'Year' and calculate the mean price\n",
        "avg_price_by_year = df.groupby('Year')['Price'].mean()\n",
        "print(\"Average price by year:\")\n",
        "print(avg_price_by_year)"
      ],
      "metadata": {
        "colab": {
          "base_uri": "https://localhost:8080/"
        },
        "id": "nm536-3tf_tP",
        "outputId": "dcda7c7f-e32c-42e2-990b-d00913ee21a2"
      },
      "execution_count": null,
      "outputs": [
        {
          "output_type": "stream",
          "name": "stdout",
          "text": [
            "Average price by year:\n",
            "Year\n",
            "2000     5393.735369\n",
            "2001     5904.064039\n",
            "2002     5956.751082\n",
            "2003     6225.834646\n",
            "2004     6330.725888\n",
            "2005     6943.037123\n",
            "2006     7249.961446\n",
            "2007     7632.513953\n",
            "2008     7728.418848\n",
            "2009     8083.917293\n",
            "2010     8503.419954\n",
            "2011     8622.855234\n",
            "2012     9011.446224\n",
            "2013     9114.208531\n",
            "2014     9587.455635\n",
            "2015     9896.774648\n",
            "2016    10177.600000\n",
            "2017    10343.757506\n",
            "2018    10939.192941\n",
            "2019    11132.722090\n",
            "2020    11495.284337\n",
            "2021    11637.813299\n",
            "2022    12067.690176\n",
            "2023    12169.470982\n",
            "Name: Price, dtype: float64\n"
          ]
        }
      ]
    },
    {
      "cell_type": "code",
      "source": [
        "# Find the car with the highest number of doors\n",
        "max_doors_car = df.loc[df['Doors'].idxmax()]\n",
        "print(f\"The car with the highest number of doors is: {max_doors_car['Brand']} {max_doors_car['Model']} ({max_doors_car['Doors']} doors)\")"
      ],
      "metadata": {
        "colab": {
          "base_uri": "https://localhost:8080/"
        },
        "id": "XJcYSNisgL-B",
        "outputId": "de483aaf-910e-4857-ef3d-ff30509b0586"
      },
      "execution_count": null,
      "outputs": [
        {
          "output_type": "stream",
          "name": "stdout",
          "text": [
            "The car with the highest number of doors is: Volkswagen Golf (5 doors)\n"
          ]
        }
      ]
    },
    {
      "cell_type": "code",
      "source": [
        "# Group by 'Fuel_Type' and calculate the mean mileage\n",
        "avg_mileage_by_fuel = df.groupby('Fuel_Type')['Mileage'].mean()\n",
        "print(\"Average mileage by fuel type:\")\n",
        "print(avg_mileage_by_fuel)"
      ],
      "metadata": {
        "colab": {
          "base_uri": "https://localhost:8080/"
        },
        "id": "qse76SkGgV-q",
        "outputId": "13d66440-44e6-46cb-b14a-c52fe7691f3a"
      },
      "execution_count": null,
      "outputs": [
        {
          "output_type": "stream",
          "name": "stdout",
          "text": [
            "Average mileage by fuel type:\n",
            "Fuel_Type\n",
            "Diesel      150261.533041\n",
            "Electric    151059.307429\n",
            "Hybrid      145577.587036\n",
            "Petrol      149917.694606\n",
            "Name: Mileage, dtype: float64\n"
          ]
        }
      ]
    },
    {
      "cell_type": "code",
      "source": [
        "# Filter cars from the brand 'Toyota'\n",
        "toyota_cars = df[df['Brand'] == 'Toyota']\n",
        "print(f\"Number of Toyota cars: {len(toyota_cars)}\")"
      ],
      "metadata": {
        "colab": {
          "base_uri": "https://localhost:8080/"
        },
        "id": "LssRvS_mgz2C",
        "outputId": "01493cab-136d-4068-822b-259e38b96f73"
      },
      "execution_count": null,
      "outputs": [
        {
          "output_type": "stream",
          "name": "stdout",
          "text": [
            "Number of Toyota cars: 970\n"
          ]
        }
      ]
    },
    {
      "cell_type": "code",
      "source": [
        "# Filter cars with automatic transmission\n",
        "automatic_cars = df[df['Transmission'] == 'Automatic']\n",
        "\n",
        "# Calculate the average price\n",
        "avg_price_automatic = automatic_cars['Price'].mean()\n",
        "print(f\"The average price of cars with automatic transmission is: ${avg_price_automatic:.2f}\")"
      ],
      "metadata": {
        "colab": {
          "base_uri": "https://localhost:8080/"
        },
        "id": "5uD1xppeg-mV",
        "outputId": "beff9cfa-a26d-4028-a8ea-b2f2bda30a3c"
      },
      "execution_count": null,
      "outputs": [
        {
          "output_type": "stream",
          "name": "stdout",
          "text": [
            "The average price of cars with automatic transmission is: $9938.25\n"
          ]
        }
      ]
    },
    {
      "cell_type": "code",
      "source": [
        "# Find the car with the highest owner count\n",
        "max_owner_car = df.loc[df['Owner_Count'].idxmax()]\n",
        "print(f\"The car with the highest owner count is: {max_owner_car['Brand']} {max_owner_car['Model']} ({max_owner_car['Owner_Count']} owners)\")"
      ],
      "metadata": {
        "colab": {
          "base_uri": "https://localhost:8080/"
        },
        "id": "cxW6lQc0hF0l",
        "outputId": "b17819c5-bdfe-4628-e83f-84a9ef24a52d"
      },
      "execution_count": null,
      "outputs": [
        {
          "output_type": "stream",
          "name": "stdout",
          "text": [
            "The car with the highest owner count is: Kia Rio (5 owners)\n"
          ]
        }
      ]
    },
    {
      "cell_type": "code",
      "source": [
        "# Filter cars with diesel fuel type\n",
        "diesel_cars = df[df['Fuel_Type'] == 'Diesel']\n",
        "\n",
        "# Calculate the average engine size\n",
        "avg_engine_diesel = diesel_cars['Engine_Size'].mean()\n",
        "print(f\"The average engine size for diesel cars is: {avg_engine_diesel:.2f}\")"
      ],
      "metadata": {
        "colab": {
          "base_uri": "https://localhost:8080/"
        },
        "id": "SLFGET7LhOTl",
        "outputId": "6d48d922-d28e-41c9-d254-0a587d773a45"
      },
      "execution_count": null,
      "outputs": [
        {
          "output_type": "stream",
          "name": "stdout",
          "text": [
            "The average engine size for diesel cars is: 3.01\n"
          ]
        }
      ]
    },
    {
      "cell_type": "code",
      "source": [
        "# Filter cars with price > $10,000\n",
        "high_price_cars = df[df['Price'] > 10000]\n",
        "print(f\"Number of cars with price > $10,000: {len(high_price_cars)}\")"
      ],
      "metadata": {
        "colab": {
          "base_uri": "https://localhost:8080/"
        },
        "id": "Ml_H46wBhZ2-",
        "outputId": "a98c6b06-14b6-412d-9eff-0de656f214c4"
      },
      "execution_count": null,
      "outputs": [
        {
          "output_type": "stream",
          "name": "stdout",
          "text": [
            "Number of cars with price > $10,000: 3651\n"
          ]
        }
      ]
    },
    {
      "cell_type": "code",
      "source": [],
      "metadata": {
        "id": "_0y3IpJmhjxP"
      },
      "execution_count": null,
      "outputs": []
    }
  ]
}